{
 "cells": [
  {
   "cell_type": "code",
   "execution_count": 20,
   "id": "92e08624",
   "metadata": {},
   "outputs": [
    {
     "name": "stdout",
     "output_type": "stream",
     "text": [
      "Name: Neha, DOB: 08-08-2002, Height: 175, City: Aurangabad, State: Maharashtra, \n",
      "Name: Nisha, DOB: 20-08-1985, Height: 162, City: abc, State: Andhrapradesh, \n",
      "Name: Pratiksha, DOB: 2005-08-20, Height: 162, City: ABC, State: UP, \n",
      "Name: Rani, DOB: 2000-04-04, Height: 162, City: , State: Karnataka, \n",
      "Name: Vaishnvi, DOB: 2001-08-20, Height: 162, City: Los Angeles, State: California, \n"
     ]
    }
   ],
   "source": [
    "import json\n",
    "class Employee:\n",
    "    def __init__(self,name,DOB,height,city,state):\n",
    "        self.name = name\n",
    "        self.DOB = DOB\n",
    "        self.height = height\n",
    "        self.city = city\n",
    "        self.state = state\n",
    "\n",
    "emp_list=[]\n",
    "with open('employee.json','r') as f:\n",
    "    data=json.load(f)\n",
    "    for i in data:\n",
    "        emp=Employee(i['Name'],i['DOB'],i['Height'],i['City'],i['State'])\n",
    "        emp_list.append(emp)\n",
    "    for employee in emp_list:\n",
    "        print(\"Name:\",employee.name,end=\", \")\n",
    "        print(\"DOB:\",employee.DOB,end=\", \")\n",
    "        print(\"Height:\",employee.height,end=\", \")\n",
    "        print(\"City:\",employee.city,end=\", \")\n",
    "        print(\"State:\",employee.state,end=\", \")\n",
    "        print()\n",
    "    "
   ]
  },
  {
   "cell_type": "code",
   "execution_count": 14,
   "id": "bc00e448",
   "metadata": {},
   "outputs": [],
   "source": [
    "import json\n",
    "\n",
    "states_and_capitals = {\n",
    "    \"Maharashtra\": \"Mumbai\",\n",
    "    \"Gujarat\": \"Gandhinagar\",\n",
    "    \"Andhra Pradesh\": \"Amaravati\",\n",
    "    \"Uttar Pradesh\": \"Lucknow\",\n",
    "    \"Tamil Nadu\": \"Chennai\",\n",
    "    \"Karnataka\": \"Bengaluru\",\n",
    "    \"Rajasthan\": \"Jaipur\",\n",
    "}\n",
    "\n",
    "with open('states.json', 'w') as file:\n",
    "    json.dump(states_and_capitals, file, indent=4)\n"
   ]
  },
  {
   "cell_type": "code",
   "execution_count": null,
   "id": "f030493f",
   "metadata": {},
   "outputs": [],
   "source": []
  }
 ],
 "metadata": {
  "kernelspec": {
   "display_name": "Python 3 (ipykernel)",
   "language": "python",
   "name": "python3"
  },
  "language_info": {
   "codemirror_mode": {
    "name": "ipython",
    "version": 3
   },
   "file_extension": ".py",
   "mimetype": "text/x-python",
   "name": "python",
   "nbconvert_exporter": "python",
   "pygments_lexer": "ipython3",
   "version": "3.10.9"
  }
 },
 "nbformat": 4,
 "nbformat_minor": 5
}
